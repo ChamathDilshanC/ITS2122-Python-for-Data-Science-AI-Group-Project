{
 "cells": [
  {
   "cell_type": "markdown",
   "id": "63f10524",
   "metadata": {},
   "source": [
    "# Complete Data Science Project: Online Retail Analysis\n",
    "\n",
    "This comprehensive notebook combines all phases of the data science workflow:\n",
    "- Phase 1: Data Cleaning\n",
    "- Phase 2: Exploratory Data Analysis (EDA)\n",
    "- Phase 3: Predictive Modeling\n",
    "- Phase 4: Reporting and Insights\n",
    "- Phase 5: Project Reflection and Conclusion\n",
    "\n",
    "Each phase is clearly separated and documented for easy understanding and replication."
   ]
  },
  {
   "cell_type": "markdown",
   "id": "99d6ed79",
   "metadata": {},
   "source": [
    "---\n",
    "# PHASE 1: DATA CLEANING\n",
    "---"
   ]
  },
  {
   "cell_type": "markdown",
   "id": "b3e8fd3a",
   "metadata": {},
   "source": [
    "## 1. Import Required Libraries\n",
    "This step imports pandas, which is essential for data manipulation and analysis."
   ]
  },
  {
   "cell_type": "code",
   "execution_count": 1,
   "id": "c5136069",
   "metadata": {},
   "outputs": [],
   "source": [
    "# Import pandas for data manipulation\n",
    "import pandas as pd  # pandas is the main library for handling tabular data in Python"
   ]
  },
  {
   "cell_type": "code",
   "execution_count": 2,
   "id": "477a3655",
   "metadata": {},
   "outputs": [
    {
     "name": "stdout",
     "output_type": "stream",
     "text": [
      "✅ Pandas successfully imported!\n",
      "✅ Pandas version: 2.3.2\n",
      "✅ Pandas is accessible as 'pd'\n"
     ]
    }
   ],
   "source": [
    "# Verify pandas is imported and working\n",
    "print(f\"✅ Pandas successfully imported!\")\n",
    "print(f\"✅ Pandas version: {pd.__version__}\")\n",
    "print(f\"✅ Pandas is accessible as 'pd'\")"
   ]
  },
  {
   "cell_type": "markdown",
   "id": "d3b04d59",
   "metadata": {},
   "source": [
    "## 2. Load Raw Data\n",
    "Read the raw CSV file into a pandas DataFrame for further analysis and cleaning."
   ]
  },
  {
   "cell_type": "code",
   "execution_count": 3,
   "id": "caf9b298",
   "metadata": {},
   "outputs": [
    {
     "name": "stdout",
     "output_type": "stream",
     "text": [
      "Type of raw_df: <class 'pandas.core.frame.DataFrame'>\n",
      "Successfully loaded 1,067,371 rows and 8 columns\n"
     ]
    }
   ],
   "source": [
    "# Load the dataset for cleaning\n",
    "# Read the raw CSV file into a pandas DataFrame\n",
    "# The CSV file is in the root directory\n",
    "raw_df = pd.read_csv('online_retail.csv')  # Load the data from the CSV file\n",
    "print(\"Type of raw_df:\", type(raw_df))\n",
    "print(f\"Successfully loaded {len(raw_df):,} rows and {len(raw_df.columns)} columns\")"
   ]
  },
  {
   "cell_type": "markdown",
   "id": "195beb5e",
   "metadata": {},
   "source": [
    "## 3. Explore Data Structure\n",
    "Display the first few rows and info to understand the data types, columns, and structure."
   ]
  },
  {
   "cell_type": "code",
   "execution_count": 4,
   "id": "530c3c65",
   "metadata": {},
   "outputs": [
    {
     "name": "stdout",
     "output_type": "stream",
     "text": [
      "  Invoice StockCode                          Description  Quantity  \\\n",
      "0  489434     85048  15CM CHRISTMAS GLASS BALL 20 LIGHTS        12   \n",
      "1  489434    79323P                   PINK CHERRY LIGHTS        12   \n",
      "2  489434    79323W                  WHITE CHERRY LIGHTS        12   \n",
      "3  489434     22041         RECORD FRAME 7\" SINGLE SIZE         48   \n",
      "4  489434     21232       STRAWBERRY CERAMIC TRINKET BOX        24   \n",
      "\n",
      "           InvoiceDate  Price  Customer ID         Country  \n",
      "0  2009-12-01 07:45:00   6.95      13085.0  United Kingdom  \n",
      "1  2009-12-01 07:45:00   6.75      13085.0  United Kingdom  \n",
      "2  2009-12-01 07:45:00   6.75      13085.0  United Kingdom  \n",
      "3  2009-12-01 07:45:00   2.10      13085.0  United Kingdom  \n",
      "4  2009-12-01 07:45:00   1.25      13085.0  United Kingdom  \n",
      "<class 'pandas.core.frame.DataFrame'>\n",
      "RangeIndex: 1067371 entries, 0 to 1067370\n",
      "Data columns (total 8 columns):\n",
      " #   Column       Non-Null Count    Dtype  \n",
      "---  ------       --------------    -----  \n",
      " 0   Invoice      1067371 non-null  object \n",
      " 1   StockCode    1067371 non-null  object \n",
      " 2   Description  1062989 non-null  object \n",
      " 3   Quantity     1067371 non-null  int64  \n",
      " 4   InvoiceDate  1067371 non-null  object \n",
      " 5   Price        1067371 non-null  float64\n",
      " 6   Customer ID  824364 non-null   float64\n",
      " 7   Country      1067371 non-null  object \n",
      "dtypes: float64(2), int64(1), object(5)\n",
      "memory usage: 65.1+ MB\n",
      "None\n",
      "<class 'pandas.core.frame.DataFrame'>\n",
      "RangeIndex: 1067371 entries, 0 to 1067370\n",
      "Data columns (total 8 columns):\n",
      " #   Column       Non-Null Count    Dtype  \n",
      "---  ------       --------------    -----  \n",
      " 0   Invoice      1067371 non-null  object \n",
      " 1   StockCode    1067371 non-null  object \n",
      " 2   Description  1062989 non-null  object \n",
      " 3   Quantity     1067371 non-null  int64  \n",
      " 4   InvoiceDate  1067371 non-null  object \n",
      " 5   Price        1067371 non-null  float64\n",
      " 6   Customer ID  824364 non-null   float64\n",
      " 7   Country      1067371 non-null  object \n",
      "dtypes: float64(2), int64(1), object(5)\n",
      "memory usage: 65.1+ MB\n",
      "None\n"
     ]
    }
   ],
   "source": [
    "# Check the data format and columns\n",
    "print(raw_df.head())  # Show the first 5 rows to get a quick look at the data\n",
    "print(raw_df.info())  # Display column names, data types, and non-null counts"
   ]
  },
  {
   "cell_type": "markdown",
   "id": "d525204c",
   "metadata": {},
   "source": [
    "## 4. Initial Data Inspection\n",
    "Summarize statistics and inspect for missing values and outliers to identify data quality issues."
   ]
  },
  {
   "cell_type": "code",
   "execution_count": 5,
   "id": "555ed272",
   "metadata": {},
   "outputs": [
    {
     "name": "stdout",
     "output_type": "stream",
     "text": [
      "           Quantity         Price    Customer ID\n",
      "count  1.067371e+06  1.067371e+06  824364.000000\n",
      "mean   9.938898e+00  4.649388e+00   15324.638504\n",
      "std    1.727058e+02  1.235531e+02    1697.464450\n",
      "min   -8.099500e+04 -5.359436e+04   12346.000000\n",
      "25%    1.000000e+00  1.250000e+00   13975.000000\n",
      "50%    3.000000e+00  2.100000e+00   15255.000000\n",
      "75%    1.000000e+01  4.150000e+00   16797.000000\n",
      "max    8.099500e+04  3.897000e+04   18287.000000\n",
      "Invoice             0\n",
      "StockCode           0\n",
      "Description      4382\n",
      "Quantity            0\n",
      "InvoiceDate         0\n",
      "Price               0\n",
      "Customer ID    243007\n",
      "Country             0\n",
      "dtype: int64\n",
      "Value counts for Invoice:\n",
      "Invoice\n",
      "537434    1350\n",
      "538071    1304\n",
      "537638    1202\n",
      "537237    1194\n",
      "536876    1186\n",
      "Name: count, dtype: int64\n",
      "Value counts for StockCode:\n",
      "StockCode\n",
      "85123A    5829\n",
      "22423     4424\n",
      "85099B    4216\n",
      "21212     3318\n",
      "20725     3259\n",
      "Name: count, dtype: int64\n",
      "Value counts for Description:\n",
      "Invoice             0\n",
      "StockCode           0\n",
      "Description      4382\n",
      "Quantity            0\n",
      "InvoiceDate         0\n",
      "Price               0\n",
      "Customer ID    243007\n",
      "Country             0\n",
      "dtype: int64\n",
      "Value counts for Invoice:\n",
      "Invoice\n",
      "537434    1350\n",
      "538071    1304\n",
      "537638    1202\n",
      "537237    1194\n",
      "536876    1186\n",
      "Name: count, dtype: int64\n",
      "Value counts for StockCode:\n",
      "StockCode\n",
      "85123A    5829\n",
      "22423     4424\n",
      "85099B    4216\n",
      "21212     3318\n",
      "20725     3259\n",
      "Name: count, dtype: int64\n",
      "Value counts for Description:\n",
      "Description\n",
      "WHITE HANGING HEART T-LIGHT HOLDER    5918\n",
      "REGENCY CAKESTAND 3 TIER              4412\n",
      "NaN                                   4382\n",
      "JUMBO BAG RED RETROSPOT               3469\n",
      "ASSORTED COLOUR BIRD ORNAMENT         2958\n",
      "Name: count, dtype: int64\n",
      "Value counts for Quantity:\n",
      "Quantity\n",
      "1     294346\n",
      "2     159960\n",
      "12    121745\n",
      "6      85299\n",
      "3      72638\n",
      "Name: count, dtype: int64\n",
      "Value counts for InvoiceDate:\n",
      "InvoiceDate\n",
      "2010-12-06 16:57:00    1350\n",
      "2010-12-09 14:09:00    1304\n",
      "2010-12-07 15:28:00    1202\n",
      "2010-12-06 09:58:00    1194\n",
      "2010-12-03 11:36:00    1186\n",
      "Name: count, dtype: int64\n",
      "Value counts for Price:\n",
      "Price\n",
      "1.25    104428\n",
      "1.65     73808\n",
      "0.85     69218\n",
      "2.95     65862\n",
      "0.42     45438\n",
      "Name: count, dtype: int64\n",
      "Value counts for Customer ID:\n",
      "Description\n",
      "WHITE HANGING HEART T-LIGHT HOLDER    5918\n",
      "REGENCY CAKESTAND 3 TIER              4412\n",
      "NaN                                   4382\n",
      "JUMBO BAG RED RETROSPOT               3469\n",
      "ASSORTED COLOUR BIRD ORNAMENT         2958\n",
      "Name: count, dtype: int64\n",
      "Value counts for Quantity:\n",
      "Quantity\n",
      "1     294346\n",
      "2     159960\n",
      "12    121745\n",
      "6      85299\n",
      "3      72638\n",
      "Name: count, dtype: int64\n",
      "Value counts for InvoiceDate:\n",
      "InvoiceDate\n",
      "2010-12-06 16:57:00    1350\n",
      "2010-12-09 14:09:00    1304\n",
      "2010-12-07 15:28:00    1202\n",
      "2010-12-06 09:58:00    1194\n",
      "2010-12-03 11:36:00    1186\n",
      "Name: count, dtype: int64\n",
      "Value counts for Price:\n",
      "Price\n",
      "1.25    104428\n",
      "1.65     73808\n",
      "0.85     69218\n",
      "2.95     65862\n",
      "0.42     45438\n",
      "Name: count, dtype: int64\n",
      "Value counts for Customer ID:\n",
      "Customer ID\n",
      "NaN        243007\n",
      "17841.0     13097\n",
      "14911.0     11613\n",
      "12748.0      7307\n",
      "14606.0      6709\n",
      "Name: count, dtype: int64\n",
      "Value counts for Country:\n",
      "Country\n",
      "United Kingdom    981330\n",
      "EIRE               17866\n",
      "Germany            17624\n",
      "France             14330\n",
      "Netherlands         5140\n",
      "Name: count, dtype: int64\n",
      "Customer ID\n",
      "NaN        243007\n",
      "17841.0     13097\n",
      "14911.0     11613\n",
      "12748.0      7307\n",
      "14606.0      6709\n",
      "Name: count, dtype: int64\n",
      "Value counts for Country:\n",
      "Country\n",
      "United Kingdom    981330\n",
      "EIRE               17866\n",
      "Germany            17624\n",
      "France             14330\n",
      "Netherlands         5140\n",
      "Name: count, dtype: int64\n"
     ]
    }
   ],
   "source": [
    "# Summarize and inspect missing data\n",
    "print(raw_df.describe())  # Get summary statistics for numeric columns\n",
    "print(raw_df.isnull().sum())  # Count missing values in each column\n",
    "# Optionally, check value counts for key columns to spot outliers or unexpected values\n",
    "for col in raw_df.columns:\n",
    "    print(f\"Value counts for {col}:\")\n",
    "    print(raw_df[col].value_counts(dropna=False).head())"
   ]
  },
  {
   "cell_type": "markdown",
   "id": "70099367",
   "metadata": {},
   "source": [
    "## 5. Handle Missing Values\n",
    "Remove or fill missing values to ensure the dataset is complete and reliable for analysis."
   ]
  },
  {
   "cell_type": "code",
   "execution_count": 6,
   "id": "42d88d20",
   "metadata": {},
   "outputs": [],
   "source": [
    "# Clean up missing data\n",
    "# Decide how to handle missing values: drop rows or fill them\n",
    "# Here, we drop rows with any missing values for simplicity\n",
    "clean_df = raw_df.dropna()  # Remove rows with any missing values\n",
    "# If you want to fill missing values instead, you could use:\n",
    "# clean_df = raw_df.fillna({'ColumnName': value, ...})"
   ]
  },
  {
   "cell_type": "markdown",
   "id": "7eacce8b",
   "metadata": {},
   "source": [
    "## 6. Remove Duplicates\n",
    "Drop duplicate rows to ensure each record in the dataset is unique."
   ]
  },
  {
   "cell_type": "code",
   "execution_count": 7,
   "id": "dfdfdb3b",
   "metadata": {},
   "outputs": [],
   "source": [
    "# Remove any repeated records\n",
    "clean_df = clean_df.drop_duplicates()  # Drop duplicate rows to ensure each record is unique"
   ]
  },
  {
   "cell_type": "markdown",
   "id": "1b1b8b2b",
   "metadata": {},
   "source": [
    "## 7. Standardize Column Names\n",
    "Rename columns to a consistent format (lowercase, underscores) for easier handling and analysis."
   ]
  },
  {
   "cell_type": "code",
   "execution_count": 8,
   "id": "6658a2a3",
   "metadata": {},
   "outputs": [],
   "source": [
    "# Make column names uniform\n",
    "clean_df.columns = [col.strip().lower().replace(' ', '_') for col in clean_df.columns]  # Lowercase, remove spaces, use underscores"
   ]
  },
  {
   "cell_type": "markdown",
   "id": "9ed14b13",
   "metadata": {},
   "source": [
    "## 7.1 Data Type Conversion\n",
    "Verify and correct the data types of all columns as required:\n",
    "- Convert InvoiceDate to datetime64[ns] for time-based analysis.\n",
    "- Convert CustomerID to integer after removing missing values.\n",
    "- Ensure StockCode is treated as a string/object."
   ]
  },
  {
   "cell_type": "code",
   "execution_count": 9,
   "id": "6ed5a37a",
   "metadata": {},
   "outputs": [
    {
     "name": "stdout",
     "output_type": "stream",
     "text": [
      "InvoiceDate type: datetime64[ns]\n",
      "CustomerID type: int64\n",
      "StockCode type: object\n"
     ]
    }
   ],
   "source": [
    "# Convert InvoiceDate to datetime64[ns]\n",
    "clean_df['invoicedate'] = pd.to_datetime(clean_df['invoicedate'])  # Convert InvoiceDate to datetime\n",
    "print('InvoiceDate type:', clean_df['invoicedate'].dtype)\n",
    "\n",
    "# Convert CustomerID to integer (after missing values removed)\n",
    "if 'customer_id' in clean_df.columns:\n",
    "    clean_df['customer_id'] = clean_df['customer_id'].astype(int)\n",
    "    print('CustomerID type:', clean_df['customer_id'].dtype)\n",
    "else:\n",
    "    print('CustomerID column not found!')\n",
    "\n",
    "# Ensure StockCode is treated as string/object\n",
    "if 'stockcode' in clean_df.columns:\n",
    "    clean_df['stockcode'] = clean_df['stockcode'].astype(str)  # Convert StockCode to string\n",
    "    print('StockCode type:', clean_df['stockcode'].dtype)\n",
    "elif 'StockCode' in clean_df.columns:\n",
    "    clean_df['StockCode'] = clean_df['StockCode'].astype(str)\n",
    "    print('StockCode type:', clean_df['StockCode'].dtype)\n",
    "else:\n",
    "    print('StockCode column not found!')"
   ]
  },
  {
   "cell_type": "markdown",
   "id": "4ae43ae7",
   "metadata": {},
   "source": [
    "## 8. Data Cleaning Summary\n",
    "This section provides a summary of how much data was removed and how much remains after cleaning steps."
   ]
  },
  {
   "cell_type": "code",
   "execution_count": 10,
   "id": "5ba76a31",
   "metadata": {},
   "outputs": [
    {
     "name": "stdout",
     "output_type": "stream",
     "text": [
      "Initial number of rows: 1067371\n",
      "Rows after removing missing values: 824364 (Removed: 243007)\n",
      "Rows after removing duplicates: 797885 (Removed: 26479)\n",
      "Total rows removed: 269486\n",
      "Final number of rows: 797885\n",
      "Final number of columns: 8\n"
     ]
    }
   ],
   "source": [
    "# Show summary of data cleaning results\n",
    "initial_rows = raw_df.shape[0]\n",
    "after_missing_rows = raw_df.dropna().shape[0]\n",
    "after_duplicates_rows = clean_df.shape[0]\n",
    "removed_missing = initial_rows - after_missing_rows\n",
    "removed_duplicates = after_missing_rows - after_duplicates_rows\n",
    "total_removed = initial_rows - after_duplicates_rows\n",
    "print(f\"Initial number of rows: {initial_rows}\")\n",
    "print(f\"Rows after removing missing values: {after_missing_rows} (Removed: {removed_missing})\")\n",
    "print(f\"Rows after removing duplicates: {after_duplicates_rows} (Removed: {removed_duplicates})\")\n",
    "print(f\"Total rows removed: {total_removed}\")\n",
    "print(f\"Final number of rows: {after_duplicates_rows}\")\n",
    "print(f\"Final number of columns: {clean_df.shape[1]}\")"
   ]
  },
  {
   "cell_type": "markdown",
   "id": "1e117a76",
   "metadata": {},
   "source": [
    "## 9. Save Cleaned Data to CSV\n",
    "Export the cleaned DataFrame to a new CSV file in the 'cleaned' folder for future use."
   ]
  },
  {
   "cell_type": "code",
   "execution_count": 11,
   "id": "97a1ec76",
   "metadata": {},
   "outputs": [
    {
     "name": "stdout",
     "output_type": "stream",
     "text": [
      "Cleaned data saved to Phase_1_Data_Cleaning/cleaned/online_retail_cleaned.csv\n"
     ]
    }
   ],
   "source": [
    "# Export the cleaned data\n",
    "clean_df.to_csv('Phase_1_Data_Cleaning/cleaned/online_retail_cleaned.csv', index=False)  # Save cleaned data to a new CSV file\n",
    "print('Cleaned data saved to Phase_1_Data_Cleaning/cleaned/online_retail_cleaned.csv')"
   ]
  },
  {
   "cell_type": "markdown",
   "id": "f8567f6b",
   "metadata": {},
   "source": [
    "---\n",
    "# PHASE 2: EXPLORATORY DATA ANALYSIS (EDA)\n",
    "---"
   ]
  },
  {
   "cell_type": "markdown",
   "id": "27bf98ce",
   "metadata": {},
   "source": [
    "## 1. Import Required Libraries\n",
    "Import all necessary libraries for data analysis and visualization."
   ]
  },
  {
   "cell_type": "code",
   "execution_count": 12,
   "id": "cd40dfa4",
   "metadata": {},
   "outputs": [],
   "source": [
    "# Import essential libraries for data analysis and visualization\n",
    "import pandas as pd\n",
    "import numpy as np\n",
    "import matplotlib.pyplot as plt\n",
    "import seaborn as sns\n",
    "from datetime import datetime\n",
    "import warnings\n",
    "warnings.filterwarnings('ignore')\n",
    "\n",
    "# Set plot style for better visualizations\n",
    "plt.style.use('default')\n",
    "sns.set_palette(\"husl\")\n",
    "\n",
    "# Configure matplotlib for better display\n",
    "plt.rcParams['figure.figsize'] = (12, 8)\n",
    "plt.rcParams['font.size'] = 12"
   ]
  },
  {
   "cell_type": "markdown",
   "id": "31ed6511",
   "metadata": {},
   "source": [
    "## 2. Load Cleaned Data\n",
    "Load the cleaned dataset from Phase 1 for exploratory analysis."
   ]
  },
  {
   "cell_type": "code",
   "execution_count": 13,
   "id": "8df4c4c4",
   "metadata": {},
   "outputs": [
    {
     "name": "stdout",
     "output_type": "stream",
     "text": [
      "Dataset shape: (797885, 8)\n",
      "Dataset columns: ['invoice', 'stockcode', 'description', 'quantity', 'invoicedate', 'price', 'customer_id', 'country']\n",
      "Data types:\n",
      "invoice                object\n",
      "stockcode              object\n",
      "description            object\n",
      "quantity                int64\n",
      "invoicedate    datetime64[ns]\n",
      "price                 float64\n",
      "customer_id             int64\n",
      "country                object\n",
      "dtype: object\n",
      "\n",
      "✅ Assignment Requirements Check:\n",
      "• customer_id is int64 (Required: int64)\n",
      "• invoicedate is datetime64[ns] (Required: datetime64[ns])\n",
      "• stockcode is object (Required: object/string)\n"
     ]
    }
   ],
   "source": [
    "# Load the cleaned dataset from Phase 1\n",
    "df = pd.read_csv('Phase_1_Data_Cleaning/cleaned/online_retail_cleaned.csv')\n",
    "\n",
    "# Convert InvoiceDate back to datetime (in case it was saved as string)\n",
    "df['invoicedate'] = pd.to_datetime(df['invoicedate'])\n",
    "\n",
    "# Ensure customer_id is int64 as required by assignment specification\n",
    "if df['customer_id'].dtype != 'int64':\n",
    "    df['customer_id'] = df['customer_id'].astype('int64')\n",
    "\n",
    "print(f\"Dataset shape: {df.shape}\")\n",
    "print(f\"Dataset columns: {list(df.columns)}\")\n",
    "print(f\"Data types:\\n{df.dtypes}\")\n",
    "print(f\"\\n✅ Assignment Requirements Check:\")\n",
    "print(f\"• customer_id is {df['customer_id'].dtype} (Required: int64)\")\n",
    "print(f\"• invoicedate is {df['invoicedate'].dtype} (Required: datetime64[ns])\")\n",
    "print(f\"• stockcode is {df['stockcode'].dtype} (Required: object/string)\")"
   ]
  },
  {
   "cell_type": "markdown",
   "id": "4fbd6f99",
   "metadata": {},
   "source": [
    "## 3. Assignment Compliance Verification\n",
    "Verify that all data types and requirements match the assignment specifications exactly."
   ]
  },
  {
   "cell_type": "code",
   "execution_count": 14,
   "id": "07426a77",
   "metadata": {},
   "outputs": [
    {
     "name": "stdout",
     "output_type": "stream",
     "text": [
      "======================================================================\n",
      "                    ASSIGNMENT COMPLIANCE CHECK\n",
      "======================================================================\n",
      "\n",
      "📋 DATA TYPE REQUIREMENTS:\n",
      "Required data types according to assignment:\n",
      "• InvoiceDate: datetime64[ns]\n",
      "• CustomerID: int64\n",
      "• StockCode: object (string)\n",
      "\n",
      "Current data types in dataset:\n",
      "• invoice: object\n",
      "• stockcode: object\n",
      "• description: object\n",
      "• quantity: int64\n",
      "• invoicedate: datetime64[ns]\n",
      "• price: float64\n",
      "• customer_id: int64\n",
      "• country: object\n",
      "\n",
      "📊 COLUMN REQUIREMENTS:\n",
      "Required columns: ['invoice', 'stockcode', 'description', 'quantity', 'invoicedate', 'price', 'customer_id', 'country']\n",
      "Current columns: ['invoice', 'stockcode', 'description', 'quantity', 'invoicedate', 'price', 'customer_id', 'country']\n",
      "✅ All required columns present\n",
      "\n",
      "🔍 DATA QUALITY REQUIREMENTS:\n",
      "• No missing values: ✅ PASS\n",
      "• No missing values: ✅ PASS\n",
      "• No duplicate rows: ✅ PASS\n",
      "• Data after cleaning: 797,885 rows, 8 columns\n",
      "\n",
      "✅ CRITICAL DATA TYPE COMPLIANCE:\n",
      "• customer_id is int64: ✅ PASS\n",
      "• invoicedate is datetime64[ns]: ✅ PASS\n",
      "• stockcode is object: ✅ PASS\n",
      "• No duplicate rows: ✅ PASS\n",
      "• Data after cleaning: 797,885 rows, 8 columns\n",
      "\n",
      "✅ CRITICAL DATA TYPE COMPLIANCE:\n",
      "• customer_id is int64: ✅ PASS\n",
      "• invoicedate is datetime64[ns]: ✅ PASS\n",
      "• stockcode is object: ✅ PASS\n",
      "\n",
      "🎯 OVERALL COMPLIANCE SCORE: 6/6 (100.0%)\n",
      "🎉 ALL ASSIGNMENT REQUIREMENTS MET!\n",
      "======================================================================\n",
      "\n",
      "🎯 OVERALL COMPLIANCE SCORE: 6/6 (100.0%)\n",
      "🎉 ALL ASSIGNMENT REQUIREMENTS MET!\n",
      "======================================================================\n"
     ]
    }
   ],
   "source": [
    "# ASSIGNMENT COMPLIANCE VERIFICATION\n",
    "print(\"=\" * 70)\n",
    "print(\"                    ASSIGNMENT COMPLIANCE CHECK\")\n",
    "print(\"=\" * 70)\n",
    "\n",
    "# Check 1: Data Types as per Assignment Requirements\n",
    "print(\"\\n📋 DATA TYPE REQUIREMENTS:\")\n",
    "print(\"Required data types according to assignment:\")\n",
    "print(\"• InvoiceDate: datetime64[ns]\")\n",
    "print(\"• CustomerID: int64\")\n",
    "print(\"• StockCode: object (string)\")\n",
    "\n",
    "print(\"\\nCurrent data types in dataset:\")\n",
    "for col in df.columns:\n",
    "    print(f\"• {col}: {df[col].dtype}\")\n",
    "\n",
    "# Check 2: Required Columns Present\n",
    "print(\"\\n📊 COLUMN REQUIREMENTS:\")\n",
    "required_columns = ['invoice', 'stockcode', 'description', 'quantity', 'invoicedate', 'price', 'customer_id', 'country']\n",
    "print(\"Required columns:\", required_columns)\n",
    "print(\"Current columns:\", list(df.columns))\n",
    "\n",
    "missing_columns = set(required_columns) - set(df.columns)\n",
    "extra_columns = set(df.columns) - set(required_columns)\n",
    "\n",
    "if missing_columns:\n",
    "    print(f\"❌ Missing columns: {missing_columns}\")\n",
    "else:\n",
    "    print(\"✅ All required columns present\")\n",
    "\n",
    "if extra_columns:\n",
    "    print(f\"ℹ️ Extra columns (not required but present): {extra_columns}\")\n",
    "\n",
    "# Check 3: Data Quality Requirements\n",
    "print(\"\\n🔍 DATA QUALITY REQUIREMENTS:\")\n",
    "print(f\"• No missing values: {'✅ PASS' if df.isnull().sum().sum() == 0 else '❌ FAIL'}\")\n",
    "print(f\"• No duplicate rows: {'✅ PASS' if df.duplicated().sum() == 0 else '❌ FAIL'}\")\n",
    "print(f\"• Data after cleaning: {len(df):,} rows, {len(df.columns)} columns\")\n",
    "\n",
    "# Check 4: Specific Data Type Compliance\n",
    "print(\"\\n✅ CRITICAL DATA TYPE COMPLIANCE:\")\n",
    "\n",
    "# CustomerID must be int64\n",
    "customer_id_correct = df['customer_id'].dtype == 'int64'\n",
    "print(f\"• customer_id is int64: {'✅ PASS' if customer_id_correct else '❌ FAIL'}\")\n",
    "\n",
    "# InvoiceDate must be datetime64[ns]\n",
    "invoicedate_correct = df['invoicedate'].dtype == 'datetime64[ns]'\n",
    "print(f\"• invoicedate is datetime64[ns]: {'✅ PASS' if invoicedate_correct else '❌ FAIL'}\")\n",
    "\n",
    "# StockCode must be object (string)\n",
    "stockcode_correct = df['stockcode'].dtype == 'object'\n",
    "print(f\"• stockcode is object: {'✅ PASS' if stockcode_correct else '❌ FAIL'}\")\n",
    "\n",
    "# Overall Compliance Score\n",
    "compliance_checks = [\n",
    "    len(missing_columns) == 0,  # All columns present\n",
    "    df.isnull().sum().sum() == 0,  # No missing values\n",
    "    df.duplicated().sum() == 0,  # No duplicates\n",
    "    customer_id_correct,  # CustomerID is int64\n",
    "    invoicedate_correct,  # InvoiceDate is datetime\n",
    "    stockcode_correct  # StockCode is object\n",
    "]\n",
    "\n",
    "passed_checks = sum(compliance_checks)\n",
    "total_checks = len(compliance_checks)\n",
    "\n",
    "print(f\"\\n🎯 OVERALL COMPLIANCE SCORE: {passed_checks}/{total_checks} ({passed_checks/total_checks*100:.1f}%)\")\n",
    "\n",
    "if passed_checks == total_checks:\n",
    "    print(\"🎉 ALL ASSIGNMENT REQUIREMENTS MET!\")\n",
    "else:\n",
    "    print(\"⚠️ Some requirements need attention\")\n",
    "\n",
    "print(\"=\" * 70)"
   ]
  },
  {
   "cell_type": "markdown",
   "id": "243e24ab",
   "metadata": {},
   "source": [
    "## 4. Basic Dataset Overview\n",
    "Get a comprehensive overview of the dataset structure and basic statistics."
   ]
  },
  {
   "cell_type": "code",
   "execution_count": 15,
   "id": "0b283da3",
   "metadata": {},
   "outputs": [
    {
     "name": "stdout",
     "output_type": "stream",
     "text": [
      "=== DATASET OVERVIEW ===\n",
      "Number of records: 797,885\n",
      "Number of features: 8\n",
      "Memory usage: 212.36 MB\n",
      "\n",
      "=== FIRST 5 ROWS ===\n",
      "  invoice stockcode                          description  quantity  \\\n",
      "0  489434     85048  15CM CHRISTMAS GLASS BALL 20 LIGHTS        12   \n",
      "1  489434    79323P                   PINK CHERRY LIGHTS        12   \n",
      "2  489434    79323W                  WHITE CHERRY LIGHTS        12   \n",
      "3  489434     22041         RECORD FRAME 7\" SINGLE SIZE         48   \n",
      "4  489434     21232       STRAWBERRY CERAMIC TRINKET BOX        24   \n",
      "\n",
      "          invoicedate  price  customer_id         country  \n",
      "0 2009-12-01 07:45:00   6.95        13085  United Kingdom  \n",
      "1 2009-12-01 07:45:00   6.75        13085  United Kingdom  \n",
      "2 2009-12-01 07:45:00   6.75        13085  United Kingdom  \n",
      "3 2009-12-01 07:45:00   2.10        13085  United Kingdom  \n",
      "4 2009-12-01 07:45:00   1.25        13085  United Kingdom  \n",
      "\n",
      "=== BASIC STATISTICS ===\n",
      "            quantity                    invoicedate          price  \\\n",
      "count  797885.000000                         797885  797885.000000   \n",
      "mean       12.602980  2011-01-02 13:17:34.141160704       3.702732   \n",
      "min    -80995.000000            2009-12-01 07:45:00       0.000000   \n",
      "25%         2.000000            2010-07-02 09:47:00       1.250000   \n",
      "50%         5.000000            2010-12-02 12:33:00       1.950000   \n",
      "75%        12.000000            2011-07-31 15:50:00       3.750000   \n",
      "max     80995.000000            2011-12-09 12:50:00   38970.000000   \n",
      "std       191.670371                            NaN      71.392549   \n",
      "\n",
      "         customer_id  \n",
      "count  797885.000000  \n",
      "mean    15313.062777  \n",
      "min     12346.000000  \n",
      "25%     13964.000000  \n",
      "50%     15228.000000  \n",
      "75%     16788.000000  \n",
      "max     18287.000000  \n",
      "std      1696.466663  \n",
      "Memory usage: 212.36 MB\n",
      "\n",
      "=== FIRST 5 ROWS ===\n",
      "  invoice stockcode                          description  quantity  \\\n",
      "0  489434     85048  15CM CHRISTMAS GLASS BALL 20 LIGHTS        12   \n",
      "1  489434    79323P                   PINK CHERRY LIGHTS        12   \n",
      "2  489434    79323W                  WHITE CHERRY LIGHTS        12   \n",
      "3  489434     22041         RECORD FRAME 7\" SINGLE SIZE         48   \n",
      "4  489434     21232       STRAWBERRY CERAMIC TRINKET BOX        24   \n",
      "\n",
      "          invoicedate  price  customer_id         country  \n",
      "0 2009-12-01 07:45:00   6.95        13085  United Kingdom  \n",
      "1 2009-12-01 07:45:00   6.75        13085  United Kingdom  \n",
      "2 2009-12-01 07:45:00   6.75        13085  United Kingdom  \n",
      "3 2009-12-01 07:45:00   2.10        13085  United Kingdom  \n",
      "4 2009-12-01 07:45:00   1.25        13085  United Kingdom  \n",
      "\n",
      "=== BASIC STATISTICS ===\n",
      "            quantity                    invoicedate          price  \\\n",
      "count  797885.000000                         797885  797885.000000   \n",
      "mean       12.602980  2011-01-02 13:17:34.141160704       3.702732   \n",
      "min    -80995.000000            2009-12-01 07:45:00       0.000000   \n",
      "25%         2.000000            2010-07-02 09:47:00       1.250000   \n",
      "50%         5.000000            2010-12-02 12:33:00       1.950000   \n",
      "75%        12.000000            2011-07-31 15:50:00       3.750000   \n",
      "max     80995.000000            2011-12-09 12:50:00   38970.000000   \n",
      "std       191.670371                            NaN      71.392549   \n",
      "\n",
      "         customer_id  \n",
      "count  797885.000000  \n",
      "mean    15313.062777  \n",
      "min     12346.000000  \n",
      "25%     13964.000000  \n",
      "50%     15228.000000  \n",
      "75%     16788.000000  \n",
      "max     18287.000000  \n",
      "std      1696.466663  \n"
     ]
    }
   ],
   "source": [
    "# Display basic information about the dataset\n",
    "print(\"=== DATASET OVERVIEW ===\")\n",
    "print(f\"Number of records: {len(df):,}\")\n",
    "print(f\"Number of features: {len(df.columns)}\")\n",
    "print(f\"Memory usage: {df.memory_usage(deep=True).sum() / 1024**2:.2f} MB\")\n",
    "\n",
    "print(\"\\n=== FIRST 5 ROWS ===\")\n",
    "print(df.head())\n",
    "\n",
    "print(\"\\n=== BASIC STATISTICS ===\")\n",
    "print(df.describe())"
   ]
  },
  {
   "cell_type": "markdown",
   "id": "1126b3f3",
   "metadata": {},
   "source": [
    "## 5. Time-Based Analysis\n",
    "Analyze sales patterns over time to understand seasonal trends and business performance."
   ]
  },
  {
   "cell_type": "code",
   "execution_count": 16,
   "id": "9d11bb8a",
   "metadata": {},
   "outputs": [
    {
     "name": "stdout",
     "output_type": "stream",
     "text": [
      "=== TIME RANGE ANALYSIS ===\n",
      "Data range: 2009-12-01 07:45:00 to 2011-12-09 12:50:00\n",
      "Total time span: 738 days\n",
      "Years covered: [np.int32(2009), np.int32(2010), np.int32(2011)]\n"
     ]
    }
   ],
   "source": [
    "# Extract time-based features for analysis\n",
    "df['year'] = df['invoicedate'].dt.year\n",
    "df['month'] = df['invoicedate'].dt.month\n",
    "df['day'] = df['invoicedate'].dt.day\n",
    "df['weekday'] = df['invoicedate'].dt.dayofweek\n",
    "df['hour'] = df['invoicedate'].dt.hour\n",
    "\n",
    "# Calculate total sales amount for each transaction\n",
    "df['total_sales'] = df['quantity'] * df['price']\n",
    "\n",
    "print(\"=== TIME RANGE ANALYSIS ===\")\n",
    "print(f\"Data range: {df['invoicedate'].min()} to {df['invoicedate'].max()}\")\n",
    "print(f\"Total time span: {(df['invoicedate'].max() - df['invoicedate'].min()).days} days\")\n",
    "print(f\"Years covered: {sorted(df['year'].unique())}\")"
   ]
  },
  {
   "cell_type": "code",
   "execution_count": 17,
   "id": "9f8d1d47",
   "metadata": {},
   "outputs": [
    {
     "data": {
      "image/png": "[encoded data removed]",
      "text/plain": [
       "<Figure size 2000x1500 with 4 Axes>"
      ]
     },
     "metadata": {},
     "output_type": "display_data"
    }
   ],
   "source": [
    "# Create comprehensive time-based visualizations\n",
    "fig, axes = plt.subplots(2, 2, figsize=(20, 15))\n",
    "fig.suptitle('Time-Based Sales Analysis', fontsize=16, fontweight='bold')\n",
    "\n",
    "# 1. Sales by Month\n",
    "monthly_sales = df.groupby('month')['total_sales'].sum().reset_index()\n",
    "axes[0,0].bar(monthly_sales['month'], monthly_sales['total_sales'])\n",
    "axes[0,0].set_title('Total Sales by Month')\n",
    "axes[0,0].set_xlabel('Month')\n",
    "axes[0,0].set_ylabel('Total Sales (£)')\n",
    "axes[0,0].set_xticks(range(1, 13))\n",
    "\n",
    "# 2. Sales by Day of Week\n",
    "weekday_sales = df.groupby('weekday')['total_sales'].sum().reset_index()\n",
    "weekday_names = ['Mon', 'Tue', 'Wed', 'Thu', 'Fri', 'Sat', 'Sun']\n",
    "axes[0,1].bar(range(7), weekday_sales['total_sales'])\n",
    "axes[0,1].set_title('Total Sales by Day of Week')\n",
    "axes[0,1].set_xlabel('Day of Week')\n",
    "axes[0,1].set_ylabel('Total Sales (£)')\n",
    "axes[0,1].set_xticks(range(7))\n",
    "axes[0,1].set_xticklabels(weekday_names)\n",
    "\n",
    "# 3. Sales by Hour\n",
    "hourly_sales = df.groupby('hour')['total_sales'].sum().reset_index()\n",
    "axes[1,0].plot(hourly_sales['hour'], hourly_sales['total_sales'], marker='o')\n",
    "axes[1,0].set_title('Total Sales by Hour of Day')\n",
    "axes[1,0].set_xlabel('Hour')\n",
    "axes[1,0].set_ylabel('Total Sales (£)')\n",
    "axes[1,0].grid(True, alpha=0.3)\n",
    "\n",
    "# 4. Daily Sales Trend\n",
    "daily_sales = df.groupby(df['invoicedate'].dt.date)['total_sales'].sum().reset_index()\n",
    "axes[1,1].plot(daily_sales['invoicedate'], daily_sales['total_sales'], alpha=0.7)\n",
    "axes[1,1].set_title('Daily Sales Trend Over Time')\n",
    "axes[1,1].set_xlabel('Date')\n",
    "axes[1,1].set_ylabel('Total Sales (£)')\n",
    "axes[1,1].tick_params(axis='x', rotation=45)\n",
    "axes[1,1].grid(True, alpha=0.3)\n",
    "\n",
    "plt.tight_layout()\n",
    "plt.show()"
   ]
  },
  {
   "cell_type": "markdown",
   "id": "913c042b",
   "metadata": {},
   "source": [
    "## 6. Customer Analysis\n",
    "Analyze customer behavior, distribution, and purchasing patterns."
   ]
  },
  {
   "cell_type": "code",
   "execution_count": 18,
   "id": "2a6739f4",
   "metadata": {},
   "outputs": [
    {
     "name": "stdout",
     "output_type": "stream",
     "text": [
      "=== CUSTOMER ANALYSIS ===\n",
      "Total unique customers: 5,942\n",
      "Average transactions per customer: 134.28\n",
      "\n",
      "=== CUSTOMER STATISTICS ===\n",
      "         total_spent  avg_order_value    num_orders  total_quantity  \\\n",
      "count    5942.000000      5942.000000   5942.000000     5942.000000   \n",
      "mean     2741.499709        17.773073    134.278862     1692.313867   \n",
      "min    -25111.090000    -25111.090000      1.000000    -1085.000000   \n",
      "25%       321.065000        10.425000     20.000000      176.250000   \n",
      "50%       822.010000        16.465000     52.000000      461.500000   \n",
      "75%      2142.195000        22.540000    140.000000     1310.250000   \n",
      "max    570380.610000      3861.000000  12638.000000   365220.000000   \n",
      "std     13676.639627       367.242457    348.055283     8486.732648   \n",
      "\n",
      "                      first_purchase                  last_purchase  \\\n",
      "count                           5942                           5942   \n",
      "mean   2010-08-18 07:44:19.851901440  2011-05-21 02:16:04.069337088   \n",
      "min              2009-12-01 07:45:00            2009-12-01 09:55:00   \n",
      "25%              2010-02-03 15:28:30            2010-11-23 14:38:00   \n",
      "50%              2010-06-21 10:21:30            2011-09-05 00:30:00   \n",
      "75%              2011-01-23 02:23:30            2011-11-15 11:08:15   \n",
      "max              2011-12-09 12:16:00            2011-12-09 12:50:00   \n",
      "std                              NaN                            NaN   \n",
      "\n",
      "       customer_lifetime_days  \n",
      "count             5942.000000  \n",
      "mean               275.396331  \n",
      "min                  0.000000  \n",
      "25%                  0.000000  \n",
      "50%                225.000000  \n",
      "75%                517.000000  \n",
      "max                738.000000  \n",
      "std                259.688017  \n"
     ]
    }
   ],
   "source": [
    "# Customer-based analysis\n",
    "print(\"=== CUSTOMER ANALYSIS ===\")\n",
    "print(f\"Total unique customers: {df['customer_id'].nunique():,}\")\n",
    "print(f\"Average transactions per customer: {len(df) / df['customer_id'].nunique():.2f}\")\n",
    "\n",
    "# Customer purchase behavior\n",
    "customer_stats = df.groupby('customer_id').agg({\n",
    "    'total_sales': ['sum', 'mean', 'count'],\n",
    "    'quantity': 'sum',\n",
    "    'invoicedate': ['min', 'max']\n",
    "}).round(2)\n",
    "\n",
    "customer_stats.columns = ['total_spent', 'avg_order_value', 'num_orders', 'total_quantity', 'first_purchase', 'last_purchase']\n",
    "customer_stats['customer_lifetime_days'] = (customer_stats['last_purchase'] - customer_stats['first_purchase']).dt.days\n",
    "\n",
    "print(\"\\n=== CUSTOMER STATISTICS ===\")\n",
    "print(customer_stats.describe())"
   ]
  },
  {
   "cell_type": "markdown",
   "id": "92c4e521",
   "metadata": {},
   "source": [
    "---\n",
    "# PHASE 3: PREDICTIVE MODELING\n",
    "---"
   ]
  },
  {
   "cell_type": "markdown",
   "id": "ad1a8e7c",
   "metadata": {},
   "source": [
    "## 1. Import Required Libraries\n",
    "We use pandas, numpy, matplotlib, seaborn, and requests (for API integration)."
   ]
  },
  {
   "cell_type": "code",
   "execution_count": 19,
   "id": "e62f7516",
   "metadata": {},
   "outputs": [],
   "source": [
    "# Import essential libraries for data science and visualization\n",
    "import pandas as pd  # Data manipulation and analysis\n",
    "import numpy as np   # Numerical operations\n",
    "import matplotlib.pyplot as plt  # Plotting\n",
    "import seaborn as sns  # Statistical data visualization\n",
    "import requests  # For API integration\n",
    "from sklearn.model_selection import train_test_split\n",
    "from sklearn.linear_model import LinearRegression\n",
    "from sklearn.metrics import mean_squared_error, mean_absolute_error, r2_score\n",
    "\n",
    "# Set visualization style for consistency\n",
    "sns.set(style='whitegrid')"
   ]
  },
  {
   "cell_type": "markdown",
   "id": "44793d5b",
   "metadata": {},
   "source": [
    "## 2. Load and Prepare Data\n",
    "We load the cleaned dataset and perform basic checks."
   ]
  },
  {
   "cell_type": "code",
   "execution_count": 20,
   "id": "a15c2ea2",
   "metadata": {},
   "outputs": [
    {
     "data": {
      "text/html": [
       "<div>\n",
       "<style scoped>\n",
       "    .dataframe tbody tr th:only-of-type {\n",
       "        vertical-align: middle;\n",
       "    }\n",
       "\n",
       "    .dataframe tbody tr th {\n",
       "        vertical-align: top;\n",
       "    }\n",
       "\n",
       "    .dataframe thead th {\n",
       "        text-align: right;\n",
       "    }\n",
       "</style>\n",
       "<table border=\"1\" class=\"dataframe\">\n",
       "  <thead>\n",
       "    <tr style=\"text-align: right;\">\n",
       "      <th></th>\n",
       "      <th>invoice</th>\n",
       "      <th>stockcode</th>\n",
       "      <th>description</th>\n",
       "      <th>quantity</th>\n",
       "      <th>invoicedate</th>\n",
       "      <th>price</th>\n",
       "      <th>customer_id</th>\n",
       "      <th>country</th>\n",
       "    </tr>\n",
       "  </thead>\n",
       "  <tbody>\n",
       "    <tr>\n",
       "      <th>0</th>\n",
       "      <td>489434</td>\n",
       "      <td>85048</td>\n",
       "      <td>15CM CHRISTMAS GLASS BALL 20 LIGHTS</td>\n",
       "      <td>12</td>\n",
       "      <td>2009-12-01 07:45:00</td>\n",
       "      <td>6.95</td>\n",
       "      <td>13085</td>\n",
       "      <td>United Kingdom</td>\n",
       "    </tr>\n",
       "    <tr>\n",
       "      <th>1</th>\n",
       "      <td>489434</td>\n",
       "      <td>79323P</td>\n",
       "      <td>PINK CHERRY LIGHTS</td>\n",
       "      <td>12</td>\n",
       "      <td>2009-12-01 07:45:00</td>\n",
       "      <td>6.75</td>\n",
       "      <td>13085</td>\n",
       "      <td>United Kingdom</td>\n",
       "    </tr>\n",
       "    <tr>\n",
       "      <th>2</th>\n",
       "      <td>489434</td>\n",
       "      <td>79323W</td>\n",
       "      <td>WHITE CHERRY LIGHTS</td>\n",
       "      <td>12</td>\n",
       "      <td>2009-12-01 07:45:00</td>\n",
       "      <td>6.75</td>\n",
       "      <td>13085</td>\n",
       "      <td>United Kingdom</td>\n",
       "    </tr>\n",
       "    <tr>\n",
       "      <th>3</th>\n",
       "      <td>489434</td>\n",
       "      <td>22041</td>\n",
       "      <td>RECORD FRAME 7\" SINGLE SIZE</td>\n",
       "      <td>48</td>\n",
       "      <td>2009-12-01 07:45:00</td>\n",
       "      <td>2.10</td>\n",
       "      <td>13085</td>\n",
       "      <td>United Kingdom</td>\n",
       "    </tr>\n",
       "    <tr>\n",
       "      <th>4</th>\n",
       "      <td>489434</td>\n",
       "      <td>21232</td>\n",
       "      <td>STRAWBERRY CERAMIC TRINKET BOX</td>\n",
       "      <td>24</td>\n",
       "      <td>2009-12-01 07:45:00</td>\n",
       "      <td>1.25</td>\n",
       "      <td>13085</td>\n",
       "      <td>United Kingdom</td>\n",
       "    </tr>\n",
       "  </tbody>\n",
       "</table>\n",
       "</div>"
      ],
      "text/plain": [
       "  invoice stockcode                          description  quantity  \\\n",
       "0  489434     85048  15CM CHRISTMAS GLASS BALL 20 LIGHTS        12   \n",
       "1  489434    79323P                   PINK CHERRY LIGHTS        12   \n",
       "2  489434    79323W                  WHITE CHERRY LIGHTS        12   \n",
       "3  489434     22041         RECORD FRAME 7\" SINGLE SIZE         48   \n",
       "4  489434     21232       STRAWBERRY CERAMIC TRINKET BOX        24   \n",
       "\n",
       "           invoicedate  price  customer_id         country  \n",
       "0  2009-12-01 07:45:00   6.95        13085  United Kingdom  \n",
       "1  2009-12-01 07:45:00   6.75        13085  United Kingdom  \n",
       "2  2009-12-01 07:45:00   6.75        13085  United Kingdom  \n",
       "3  2009-12-01 07:45:00   2.10        13085  United Kingdom  \n",
       "4  2009-12-01 07:45:00   1.25        13085  United Kingdom  "
      ]
     },
     "execution_count": 20,
     "metadata": {},
     "output_type": "execute_result"
    }
   ],
   "source": [
    "# Load the cleaned retail data from Phase 1\n",
    "data_path = 'Phase_1_Data_Cleaning/cleaned/online_retail_cleaned.csv'\n",
    "df = pd.read_csv(data_path)\n",
    "# Display the first few rows to understand the data structure\n",
    "df.head()"
   ]
  },
  {
   "cell_type": "code",
   "execution_count": 21,
   "id": "3b144c3b",
   "metadata": {},
   "outputs": [
    {
     "name": "stdout",
     "output_type": "stream",
     "text": [
      "DataFrame info:\n",
      "<class 'pandas.core.frame.DataFrame'>\n",
      "RangeIndex: 797885 entries, 0 to 797884\n",
      "Data columns (total 8 columns):\n",
      " #   Column       Non-Null Count   Dtype  \n",
      "---  ------       --------------   -----  \n",
      " 0   invoice      797885 non-null  object \n",
      " 1   stockcode    797885 non-null  object \n",
      " 2   description  797885 non-null  object \n",
      " 3   quantity     797885 non-null  int64  \n",
      " 4   invoicedate  797885 non-null  object \n",
      " 5   price        797885 non-null  float64\n",
      " 6   customer_id  797885 non-null  int64  \n",
      " 7   country      797885 non-null  object \n",
      "dtypes: float64(1), int64(2), object(5)\n",
      "memory usage: 48.7+ MB\n",
      "\n",
      "Missing values per column:\n",
      "invoice        0\n",
      "stockcode      0\n",
      "description    0\n",
      "quantity       0\n",
      "invoicedate    0\n",
      "price          0\n",
      "customer_id    0\n",
      "country        0\n",
      "dtype: int64\n",
      "<class 'pandas.core.frame.DataFrame'>\n",
      "RangeIndex: 797885 entries, 0 to 797884\n",
      "Data columns (total 8 columns):\n",
      " #   Column       Non-Null Count   Dtype  \n",
      "---  ------       --------------   -----  \n",
      " 0   invoice      797885 non-null  object \n",
      " 1   stockcode    797885 non-null  object \n",
      " 2   description  797885 non-null  object \n",
      " 3   quantity     797885 non-null  int64  \n",
      " 4   invoicedate  797885 non-null  object \n",
      " 5   price        797885 non-null  float64\n",
      " 6   customer_id  797885 non-null  int64  \n",
      " 7   country      797885 non-null  object \n",
      "dtypes: float64(1), int64(2), object(5)\n",
      "memory usage: 48.7+ MB\n",
      "\n",
      "Missing values per column:\n",
      "invoice        0\n",
      "stockcode      0\n",
      "description    0\n",
      "quantity       0\n",
      "invoicedate    0\n",
      "price          0\n",
      "customer_id    0\n",
      "country        0\n",
      "dtype: int64\n"
     ]
    }
   ],
   "source": [
    "# Check for missing values and data types\n",
    "print('DataFrame info:')\n",
    "df.info()\n",
    "print('\\nMissing values per column:')\n",
    "print(df.isnull().sum())"
   ]
  },
  {
   "cell_type": "markdown",
   "id": "f08c31e3",
   "metadata": {},
   "source": [
    "## 3. Feature Engineering\n",
    "We create new features that may help improve model performance."
   ]
  },
  {
   "cell_type": "code",
   "execution_count": 22,
   "id": "ca2e276b",
   "metadata": {},
   "outputs": [
    {
     "data": {
      "text/html": [
       "<div>\n",
       "<style scoped>\n",
       "    .dataframe tbody tr th:only-of-type {\n",
       "        vertical-align: middle;\n",
       "    }\n",
       "\n",
       "    .dataframe tbody tr th {\n",
       "        vertical-align: top;\n",
       "    }\n",
       "\n",
       "    .dataframe thead th {\n",
       "        text-align: right;\n",
       "    }\n",
       "</style>\n",
       "<table border=\"1\" class=\"dataframe\">\n",
       "  <thead>\n",
       "    <tr style=\"text-align: right;\">\n",
       "      <th></th>\n",
       "      <th>invoice</th>\n",
       "      <th>stockcode</th>\n",
       "      <th>description</th>\n",
       "      <th>quantity</th>\n",
       "      <th>invoicedate</th>\n",
       "      <th>price</th>\n",
       "      <th>customer_id</th>\n",
       "      <th>country</th>\n",
       "      <th>TotalPrice</th>\n",
       "      <th>InvoiceMonth</th>\n",
       "      <th>InvoiceDay</th>\n",
       "      <th>InvoiceHour</th>\n",
       "    </tr>\n",
       "  </thead>\n",
       "  <tbody>\n",
       "    <tr>\n",
       "      <th>0</th>\n",
       "      <td>489434</td>\n",
       "      <td>85048</td>\n",
       "      <td>15CM CHRISTMAS GLASS BALL 20 LIGHTS</td>\n",
       "      <td>12</td>\n",
       "      <td>2009-12-01 07:45:00</td>\n",
       "      <td>6.95</td>\n",
       "      <td>13085</td>\n",
       "      <td>United Kingdom</td>\n",
       "      <td>83.4</td>\n",
       "      <td>12</td>\n",
       "      <td>1</td>\n",
       "      <td>7</td>\n",
       "    </tr>\n",
       "    <tr>\n",
       "      <th>1</th>\n",
       "      <td>489434</td>\n",
       "      <td>79323P</td>\n",
       "      <td>PINK CHERRY LIGHTS</td>\n",
       "      <td>12</td>\n",
       "      <td>2009-12-01 07:45:00</td>\n",
       "      <td>6.75</td>\n",
       "      <td>13085</td>\n",
       "      <td>United Kingdom</td>\n",
       "      <td>81.0</td>\n",
       "      <td>12</td>\n",
       "      <td>1</td>\n",
       "      <td>7</td>\n",
       "    </tr>\n",
       "    <tr>\n",
       "      <th>2</th>\n",
       "      <td>489434</td>\n",
       "      <td>79323W</td>\n",
       "      <td>WHITE CHERRY LIGHTS</td>\n",
       "      <td>12</td>\n",
       "      <td>2009-12-01 07:45:00</td>\n",
       "      <td>6.75</td>\n",
       "      <td>13085</td>\n",
       "      <td>United Kingdom</td>\n",
       "      <td>81.0</td>\n",
       "      <td>12</td>\n",
       "      <td>1</td>\n",
       "      <td>7</td>\n",
       "    </tr>\n",
       "    <tr>\n",
       "      <th>3</th>\n",
       "      <td>489434</td>\n",
       "      <td>22041</td>\n",
       "      <td>RECORD FRAME 7\" SINGLE SIZE</td>\n",
       "      <td>48</td>\n",
       "      <td>2009-12-01 07:45:00</td>\n",
       "      <td>2.10</td>\n",
       "      <td>13085</td>\n",
       "      <td>United Kingdom</td>\n",
       "      <td>100.8</td>\n",
       "      <td>12</td>\n",
       "      <td>1</td>\n",
       "      <td>7</td>\n",
       "    </tr>\n",
       "    <tr>\n",
       "      <th>4</th>\n",
       "      <td>489434</td>\n",
       "      <td>21232</td>\n",
       "      <td>STRAWBERRY CERAMIC TRINKET BOX</td>\n",
       "      <td>24</td>\n",
       "      <td>2009-12-01 07:45:00</td>\n",
       "      <td>1.25</td>\n",
       "      <td>13085</td>\n",
       "      <td>United Kingdom</td>\n",
       "      <td>30.0</td>\n",
       "      <td>12</td>\n",
       "      <td>1</td>\n",
       "      <td>7</td>\n",
       "    </tr>\n",
       "  </tbody>\n",
       "</table>\n",
       "</div>"
      ],
      "text/plain": [
       "  invoice stockcode                          description  quantity  \\\n",
       "0  489434     85048  15CM CHRISTMAS GLASS BALL 20 LIGHTS        12   \n",
       "1  489434    79323P                   PINK CHERRY LIGHTS        12   \n",
       "2  489434    79323W                  WHITE CHERRY LIGHTS        12   \n",
       "3  489434     22041         RECORD FRAME 7\" SINGLE SIZE         48   \n",
       "4  489434     21232       STRAWBERRY CERAMIC TRINKET BOX        24   \n",
       "\n",
       "          invoicedate  price  customer_id         country  TotalPrice  \\\n",
       "0 2009-12-01 07:45:00   6.95        13085  United Kingdom        83.4   \n",
       "1 2009-12-01 07:45:00   6.75        13085  United Kingdom        81.0   \n",
       "2 2009-12-01 07:45:00   6.75        13085  United Kingdom        81.0   \n",
       "3 2009-12-01 07:45:00   2.10        13085  United Kingdom       100.8   \n",
       "4 2009-12-01 07:45:00   1.25        13085  United Kingdom        30.0   \n",
       "\n",
       "   InvoiceMonth  InvoiceDay  InvoiceHour  \n",
       "0            12           1            7  \n",
       "1            12           1            7  \n",
       "2            12           1            7  \n",
       "3            12           1            7  \n",
       "4            12           1            7  "
      ]
     },
     "execution_count": 22,
     "metadata": {},
     "output_type": "execute_result"
    }
   ],
   "source": [
    "# Feature Engineering: Create new features for modeling\n",
    "df['TotalPrice'] = df['quantity'] * df['price']  # Total price for each transaction\n",
    "df['invoicedate'] = pd.to_datetime(df['invoicedate'])  # Ensure datetime type\n",
    "df['InvoiceMonth'] = df['invoicedate'].dt.month  # Extract month\n",
    "df['InvoiceDay'] = df['invoicedate'].dt.day      # Extract day\n",
    "df['InvoiceHour'] = df['invoicedate'].dt.hour    # Extract hour\n",
    "# Preview the updated dataframe\n",
    "df.head()"
   ]
  },
  {
   "cell_type": "markdown",
   "id": "c027d455",
   "metadata": {},
   "source": [
    "## 4. Model Selection and Training\n",
    "We select a simple regression model to predict 'TotalPrice'."
   ]
  },
  {
   "cell_type": "code",
   "execution_count": 23,
   "id": "4e163fe0",
   "metadata": {},
   "outputs": [],
   "source": [
    "# Prepare features and target variable\n",
    "features = ['quantity', 'price', 'InvoiceMonth', 'InvoiceDay', 'InvoiceHour']\n",
    "X = df[features]\n",
    "y = df['TotalPrice']\n",
    "# Split data into training and test sets\n",
    "X_train, X_test, y_train, y_test = train_test_split(X, y, test_size=0.2, random_state=42)"
   ]
  },
  {
   "cell_type": "code",
   "execution_count": 24,
   "id": "c17f30c2",
   "metadata": {},
   "outputs": [],
   "source": [
    "# Train a Linear Regression model to predict TotalPrice\n",
    "model = LinearRegression()\n",
    "model.fit(X_train, y_train)\n",
    "# Predict on test set\n",
    "y_pred = model.predict(X_test)"
   ]
  },
  {
   "cell_type": "markdown",
   "id": "1bf633d6",
   "metadata": {},
   "source": [
    "## 5. Model Evaluation\n",
    "We evaluate the model using standard regression metrics and visualize the results."
   ]
  },
  {
   "cell_type": "code",
   "execution_count": 25,
   "id": "6b15c767",
   "metadata": {},
   "outputs": [
    {
     "name": "stdout",
     "output_type": "stream",
     "text": [
      "MSE: 25363.24, MAE: 15.98, R2: 0.56\n"
     ]
    }
   ],
   "source": [
    "# Calculate evaluation metrics for regression model\n",
    "mse = mean_squared_error(y_test, y_pred)\n",
    "mae = mean_absolute_error(y_test, y_pred)\n",
    "r2 = r2_score(y_test, y_pred)\n",
    "print(f'MSE: {mse:.2f}, MAE: {mae:.2f}, R2: {r2:.2f}')"
   ]
  },
  {
   "cell_type": "code",
   "execution_count": 26,
   "id": "1e4016a9",
   "metadata": {},
   "outputs": [
    {
     "data": {
      "image/png": "[encoded data removed]",
      "text/plain": [
       "<Figure size 800x500 with 1 Axes>"
      ]
     },
     "metadata": {},
     "output_type": "display_data"
    }
   ],
   "source": [
    "# Visualize actual vs predicted TotalPrice values\n",
    "plt.figure(figsize=(8,5))\n",
    "sns.scatterplot(x=y_test, y=y_pred, alpha=0.5)\n",
    "plt.xlabel('Actual TotalPrice')\n",
    "plt.ylabel('Predicted TotalPrice')\n",
    "plt.title('Actual vs Predicted TotalPrice')\n",
    "plt.show()"
   ]
  },
  {
   "cell_type": "markdown",
   "id": "b9103302",
   "metadata": {},
   "source": [
    "## 6. Interpretation and Visualization\n",
    "We interpret the model coefficients and visualize feature importance."
   ]
  },
  {
   "cell_type": "code",
   "execution_count": 27,
   "id": "ae755a21",
   "metadata": {},
   "outputs": [
    {
     "name": "stdout",
     "output_type": "stream",
     "text": [
      "Feature Coefficients:\n",
      "quantity        1.506815\n",
      "price          -0.196405\n",
      "InvoiceMonth    0.233253\n",
      "InvoiceDay     -0.002899\n",
      "InvoiceHour    -0.224634\n",
      "dtype: float64\n"
     ]
    },
    {
     "data": {
      "image/png": "[encoded data removed]",
      "text/plain": [
       "<Figure size 600x400 with 1 Axes>"
      ]
     },
     "metadata": {},
     "output_type": "display_data"
    }
   ],
   "source": [
    "# Show model coefficients for each feature to interpret importance\n",
    "coefficients = pd.Series(model.coef_, index=features)\n",
    "print('Feature Coefficients:')\n",
    "print(coefficients)\n",
    "# Visualize feature importance\n",
    "plt.figure(figsize=(6,4))\n",
    "coefficients.plot(kind='barh')\n",
    "plt.title('Feature Importance (Linear Regression Coefficients)')\n",
    "plt.xlabel('Coefficient Value')\n",
    "plt.show()"
   ]
  },
  {
   "cell_type": "markdown",
   "id": "7b596249",
   "metadata": {},
   "source": [
    "## 7. API Integration Example\n",
    "Demonstrate using the `requests` library to fetch data from an external API."
   ]
  },
  {
   "cell_type": "code",
   "execution_count": 28,
   "id": "fa083a7a",
   "metadata": {},
   "outputs": [
    {
     "name": "stdout",
     "output_type": "stream",
     "text": [
      "Exchange rates for USD:\n",
      "{'USD': 1, 'AED': 3.67, 'AFN': 68.43, 'ALL': 83.74, 'AMD': 382.57, 'ANG': 1.79, 'AOA': 919.11, 'ARS': 1323.83, 'AUD': 1.53, 'AWG': 1.79, 'AZN': 1.7, 'BAM': 1.67, 'BBD': 2, 'BDT': 121.58, 'BGN': 1.67, 'BHD': 0.376, 'BIF': 2966.98, 'BMD': 1, 'BND': 1.28, 'BOB': 6.92, 'BRL': 5.42, 'BSD': 1, 'BTN': 88.07, 'BWP': 14.06, 'BYN': 3.11, 'BZD': 2, 'CAD': 1.37, 'CDF': 2867.61, 'CHF': 0.801, 'CLP': 967.95, 'CNY': 7.13, 'COP': 4028.24, 'CRC': 503.79, 'CUP': 24, 'CVE': 94.39, 'CZK': 20.97, 'DJF': 177.72, 'DKK': 6.38, 'DOP': 62.88, 'DZD': 129.85, 'EGP': 48.59, 'ERN': 15, 'ETB': 140.79, 'EUR': 0.856, 'FJD': 2.26, 'FKP': 0.741, 'FOK': 6.38, 'GBP': 0.741, 'GEL': 2.7, 'GGP': 0.741, 'GHS': 11.66, 'GIP': 0.741, 'GMD': 72.9, 'GNF': 8680.52, 'GTQ': 7.66, 'GYD': 209.07, 'HKD': 7.8, 'HNL': 26.19, 'HRK': 6.45, 'HTG': 130.8, 'HUF': 339.69, 'IDR': 16484.66, 'ILS': 3.34, 'IMP': 0.741, 'INR': 88.1, 'IQD': 1309.88, 'IRR': 42222.33, 'ISK': 122.62, 'JEP': 0.741, 'JMD': 160.11, 'JOD': 0.709, 'JPY': 147.04, 'KES': 129.08, 'KGS': 87.35, 'KHR': 4012.09, 'KID': 1.53, 'KMF': 421.13, 'KRW': 1389.43, 'KWD': 0.306, 'KYD': 0.833, 'KZT': 538.61, 'LAK': 21728.67, 'LBP': 89500, 'LKR': 302.06, 'LRD': 200.59, 'LSL': 17.67, 'LYD': 5.43, 'MAD': 9.02, 'MDL': 16.63, 'MGA': 4456.96, 'MKD': 53.02, 'MMK': 2100.36, 'MNT': 3566.86, 'MOP': 8.03, 'MRU': 40.11, 'MUR': 46.12, 'MVR': 15.43, 'MWK': 1744.97, 'MXN': 18.66, 'MYR': 4.22, 'MZN': 63.6, 'NAD': 17.67, 'NGN': 1531.69, 'NIO': 36.77, 'NOK': 10.06, 'NPR': 140.92, 'NZD': 1.7, 'OMR': 0.384, 'PAB': 1, 'PEN': 3.54, 'PGK': 4.22, 'PHP': 57.16, 'PKR': 283.92, 'PLN': 3.65, 'PYG': 7242.77, 'QAR': 3.64, 'RON': 4.35, 'RSD': 100.3, 'RUB': 80.34, 'RWF': 1448.79, 'SAR': 3.75, 'SBD': 8.23, 'SCR': 14.45, 'SDG': 510.21, 'SEK': 9.47, 'SGD': 1.28, 'SHP': 0.741, 'SLE': 23.33, 'SLL': 23327.2, 'SOS': 571.49, 'SRD': 37.61, 'SSP': 4670.53, 'STN': 20.97, 'SYP': 12871.56, 'SZL': 17.67, 'THB': 32.34, 'TJS': 9.45, 'TMT': 3.5, 'TND': 2.89, 'TOP': 2.36, 'TRY': 41.14, 'TTD': 6.73, 'TVD': 1.53, 'TWD': 30.53, 'TZS': 2491.52, 'UAH': 41.32, 'UGX': 3522.78, 'UYU': 39.98, 'UZS': 12423.49, 'VES': 148.44, 'VND': 26193.12, 'VUV': 120.14, 'WST': 2.69, 'XAF': 561.51, 'XCD': 2.7, 'XCG': 1.79, 'XDR': 0.73, 'XOF': 561.51, 'XPF': 102.15, 'YER': 239.88, 'ZAR': 17.67, 'ZMW': 23.49, 'ZWL': 26.75}\n"
     ]
    }
   ],
   "source": [
    "# Example: Fetch data from a public API (e.g., exchange rates) using requests\n",
    "try:\n",
    "    response = requests.get('https://api.exchangerate-api.com/v4/latest/USD')\n",
    "    if response.status_code == 200:\n",
    "        data = response.json()\n",
    "        print('Exchange rates for USD:')\n",
    "        print(data['rates'])\n",
    "    else:\n",
    "        print('Failed to fetch data from API')\n",
    "except Exception as e:\n",
    "    print(f'Error fetching API data: {e}')"
   ]
  },
  {
   "cell_type": "markdown",
   "id": "8c7cd26c",
   "metadata": {},
   "source": [
    "---\n",
    "# PHASE 4: REPORTING AND INSIGHTS\n",
    "---"
   ]
  },
  {
   "cell_type": "markdown",
   "id": "f7349c78",
   "metadata": {},
   "source": [
    "## 1. Executive Summary\n",
    "**Project Objective:** Analyze online retail data to uncover business insights and build predictive models for sales forecasting.\n",
    "\n",
    "**Approach:** Data cleaning, exploratory analysis, feature engineering, predictive modeling, and reporting.\n",
    "\n",
    "**Main Outcomes:** Key trends identified, regression model built, actionable recommendations provided."
   ]
  },
  {
   "cell_type": "markdown",
   "id": "6e5d3f70",
   "metadata": {},
   "source": [
    "## 2. Key Data Insights\n",
    "Highlight important patterns and findings from the EDA and modeling phases."
   ]
  },
  {
   "cell_type": "code",
   "execution_count": 29,
   "id": "327f677e",
   "metadata": {},
   "outputs": [
    {
     "name": "stdout",
     "output_type": "stream",
     "text": [
      "Number of transactions: 797885\n",
      "Unique customers: 5942\n",
      "Unique products: 4646\n",
      "Total revenue (£): 16289991.287999999\n"
     ]
    }
   ],
   "source": [
    "# Load cleaned data for summary statistics\n",
    "df = pd.read_csv('Phase_1_Data_Cleaning/cleaned/online_retail_cleaned.csv')\n",
    "# Show basic stats\n",
    "print('Number of transactions:', len(df))\n",
    "print('Unique customers:', df['customer_id'].nunique())\n",
    "print('Unique products:', df['stockcode'].nunique())\n",
    "print('Total revenue (£):', df['quantity'].mul(df['price']).sum())"
   ]
  },
  {
   "cell_type": "markdown",
   "id": "4069bd60",
   "metadata": {},
   "source": [
    "## 3. Business Recommendations\n",
    "Present actionable recommendations based on the analysis and model results.\n",
    "\n",
    "- Focus marketing efforts on top customer segments identified by high spending and frequent purchases.\n",
    "- Optimize inventory for products with highest sales and revenue.\n",
    "- Monitor and address negative quantity and price transactions to reduce returns and errors.\n",
    "- Use predictive modeling to forecast sales and plan promotions during peak months."
   ]
  },
  {
   "cell_type": "markdown",
   "id": "96a422b1",
   "metadata": {},
   "source": [
    "---\n",
    "# PHASE 5: PROJECT REFLECTION AND CONCLUSION\n",
    "---"
   ]
  },
  {
   "cell_type": "markdown",
   "id": "81bfdb38",
   "metadata": {},
   "source": [
    "## 1. Project Reflection\n",
    "Reflect on the overall data science workflow, teamwork, and project experience.\n",
    "\n",
    "- The project provided hands-on experience in data cleaning, analysis, modeling, and reporting.\n",
    "- Collaboration and communication were key to successful completion.\n",
    "- Iterative development and feedback helped improve results."
   ]
  },
  {
   "cell_type": "markdown",
   "id": "b7318a37",
   "metadata": {},
   "source": [
    "## 2. Challenges and Solutions\n",
    "Discuss major challenges encountered and how they were addressed.\n",
    "\n",
    "- Handling missing and inconsistent data required careful cleaning and validation.\n",
    "- Choosing appropriate features and models involved experimentation and research.\n",
    "- Visualizing results effectively was improved by using seaborn and matplotlib styling."
   ]
  },
  {
   "cell_type": "markdown",
   "id": "4ef77745",
   "metadata": {},
   "source": [
    "## 3. Lessons Learned\n",
    "Summarize key lessons from the project.\n",
    "\n",
    "- Data quality is critical for meaningful analysis and modeling.\n",
    "- Clear communication and documentation help keep the project on track.\n",
    "- Visualization and interpretation are essential for actionable insights."
   ]
  },
  {
   "cell_type": "markdown",
   "id": "623af105",
   "metadata": {},
   "source": [
    "## 4. Final Conclusion\n",
    "Present a concise conclusion summarizing the project impact.\n",
    "\n",
    "- The project successfully demonstrated the end-to-end data science workflow.\n",
    "- Predictive modeling and reporting provided valuable business insights.\n",
    "- The team is well-prepared for future data-driven projects."
   ]
  },
  {
   "cell_type": "markdown",
   "id": "c3ced6d7",
   "metadata": {},
   "source": [
    "## 5. Future Recommendations\n",
    "Suggest next steps and improvements for future work.\n",
    "\n",
    "- Explore advanced machine learning models for improved accuracy.\n",
    "- Integrate external data sources for richer analysis.\n",
    "- Automate reporting and dashboard creation for real-time insights.\n",
    "- Continue developing teamwork and project management skills."
   ]
  }
 ],
 "metadata": {
  "kernelspec": {
   "display_name": "Python 3",
   "language": "python",
   "name": "python3"
  },
  "language_info": {
   "codemirror_mode": {
    "name": "ipython",
    "version": 3
   },
   "file_extension": ".py",
   "mimetype": "text/x-python",
   "name": "python",
   "nbconvert_exporter": "python",
   "pygments_lexer": "ipython3",
   "version": "3.13.2"
  }
 },
 "nbformat": 4,
 "nbformat_minor": 5
}
